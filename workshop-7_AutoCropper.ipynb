{
 "cells": [
  {
   "cell_type": "markdown",
   "metadata": {},
   "source": [
    "# Workshop Notebook 7: AutoCropper with OpenCV"
   ]
  },
  {
   "cell_type": "markdown",
   "metadata": {},
   "source": [
    "## Mandatory Disclosures\n",
    "\n",
    "1. This is a whirlwind introduction, not exhaustive instruction\n",
    "1. All images are by courtesy of the University Archives at Texas State University: http://www.univarchives.txstate.edu\n",
    "1. img_qc_workshop is licensed under the GNU General Public License v3.0, https://github.com/photosbyjeremy/img_qc_workshop/blob/master/LICENSE\n",
    "1. *Any and all code provided is done so without any warranty or expectation of support by Jeremy Moore, Todd Peters, or Texas State University*"
   ]
  },
  {
   "cell_type": "code",
   "execution_count": null,
   "metadata": {
    "code_folding": [
     0
    ]
   },
   "outputs": [],
   "source": [
    "# importing\n",
    "import cv2\n",
    "import os\n",
    "\n",
    "# importing\n",
    "from pathlib import Path\n",
    "from PIL import Image\n",
    "import matplotlib.pyplot as plt\n",
    "import img_qc.img_qc as img_qc\n",
    "\n",
    "# magic that lets us plot directly in the notebook\n",
    "%matplotlib inline\n",
    "\n",
    "# parameters for matplotlib to increase our default figure size -- NOTE: figure sizes are in INCHES\n",
    "plt.rcParams[\"figure.figsize\"] = (12,20)  # set as needed for your screen and eyes\n",
    "\n",
    "# on a high-dpi monitor this will increase the quality of plots on-screen\n",
    "%config InlineBackend.figure_format = 'retina'"
   ]
  },
  {
   "cell_type": "code",
   "execution_count": null,
   "metadata": {},
   "outputs": [],
   "source": [
    "image_path = 'data/workshop-7/graduate_catalog_1949/graduate_catalog_1949_0007.tif'"
   ]
  },
  {
   "cell_type": "code",
   "execution_count": null,
   "metadata": {
    "code_folding": [
     0
    ]
   },
   "outputs": [],
   "source": [
    "# open image\n",
    "image_original = Image.open(image_path)\n",
    "\n",
    "# display image\n",
    "plt.imshow(image_original)"
   ]
  },
  {
   "cell_type": "code",
   "execution_count": null,
   "metadata": {
    "code_folding": [
     0
    ]
   },
   "outputs": [],
   "source": [
    "# === AutoCrop\n",
    "\n",
    "# load the image\n",
    "image = cv2.imread(image_path)\n",
    "\n",
    "# compute the ratio of the old height to the new height\n",
    "ratio = image.shape[0] / 500.0\n",
    "\n",
    "# clone image\n",
    "original = image.copy()\n",
    "\n",
    "# resize image\n",
    "image = img_qc.get_resized_cv_image(image, height=500)\n",
    "\n",
    "# convert the image to grayscale\n",
    "gray = cv2.cvtColor(image, cv2.COLOR_BGR2GRAY)\n",
    "\n",
    "# blur the image\n",
    "blurred = cv2.GaussianBlur(gray, (5, 5), 0)\n",
    "\n",
    "# apply Otsu's automatic thresholding\n",
    "(T, thresh) = cv2.threshold(blurred, 0, 255, \n",
    "                           cv2.THRESH_BINARY | cv2.THRESH_OTSU)\n",
    "\n",
    "# find the contours in the thresholded image keeping the external one\n",
    "image, contours, hierarchy = cv2.findContours(thresh.copy(), cv2.RETR_EXTERNAL,\n",
    "                       cv2.CHAIN_APPROX_SIMPLE)\n",
    "cnts = contours\n",
    "\n",
    "# sort the contours from left to right\n",
    "(cnts, bounding_boxes) = img_qc.sort_contours(cnts)\n",
    "clone = image.copy()\n",
    "\n",
    "# loop over the contours individually\n",
    "for (i, c) in enumerate(cnts):\n",
    "    # if the contour is not sufficiently large, ignore it\n",
    "    if cv2.contourArea(c) < 700:\n",
    "        continue\n",
    "        \n",
    "    # comnpute the rotated bounding box of the contour\n",
    "    box = cv2.minAreaRect(c)\n",
    "    box = cv2.boxPoints(box)\n",
    "    box = np.int0(box)\n",
    "    cv2.drawContours(clone, [box], 0, (0, 0, 255), 2)\n",
    "    \n",
    "    # re-order the points in tl, tr, br, bl order\n",
    "    rect = img_qc.order_points(box)\n",
    "    \n",
    "    # clone the image and find the points and angle for minAreaRectangle\n",
    "    clone = image.copy()\n",
    "    (x, y), (w, h), theta = cv2.minAreaRect(c)\n",
    "    \n",
    "    # rotate image around center of minAreaRect by theta amount\n",
    "    if theta < -45:\n",
    "        theta = 90 + theta\n",
    "    rotated = img_qc.rotate(clone, theta, (x, y))\n",
    "\n",
    "# multiply the rectangle by the original ratio\n",
    "rect *= ratio\n",
    "\n",
    "# find the points we need to crop the full size original\n",
    "tl, tr, br, bl = rect\n",
    "startX = max(min(tl[0], bl[0]), 0)\n",
    "startY = max(min(tl[1], tr[1]), 0)\n",
    "endX = max(tr[0], br[0])\n",
    "endY = max(bl[1], br[1])\n",
    "\n",
    "# rotate original by theta from minAreaRect\n",
    "x *= ratio\n",
    "y *= ratio\n",
    "rotated = img_qc.rotate(original, theta, center=(x, y))\n",
    "\n",
    "# add padding to the image if set as argument\n",
    "# NOTE: default is 0\n",
    "padding = -50\n",
    "pixel_padding = int(padding)\n",
    "startX -= pixel_padding\n",
    "startY -= pixel_padding\n",
    "# debug: set startX and startY to max of their current value and 0\n",
    "startX = max(startX, 0)\n",
    "startY = max(startY, 0)\n",
    "endX += pixel_padding\n",
    "endY += pixel_padding\n",
    "\n",
    "# crop the image in memory\n",
    "crop = rotated[int(startY):int(endY), int(startX):int(endX)]\n",
    "\n",
    "# check for and create a save directory (currently hardcoded, could\n",
    "# set as argument)\n",
    "head, tail = os.path.split(image_path)\n",
    "added_path = \"/00_cropped/\"\n",
    "save_path = head + added_path\n",
    "try:\n",
    "    os.makedirs(save_path)\n",
    "except OSError:\n",
    "    if not os.path.isdir(save_path):\n",
    "        raise\n",
    "\n",
    "# split filename and create new output path with (currently hardcoded,\n",
    "# but could set different programs to create different derivatives in\n",
    "# folders, e.g. crop, inverted, normalized as hard-check on process -\n",
    "# could absolutely throw out a percentage of images to check manually, too!)\n",
    "base, ext = os.path.splitext(tail)\n",
    "\n",
    "# save_name = base + \"_crop\" + ext -- took this out so I don't have to rename\n",
    "# everything anymore\n",
    "save_name = base + ext\n",
    "output_path = save_path + save_name\n",
    "\n",
    "# save our cropped image to disk in the new location\n",
    "cv2.imwrite(output_path, crop)"
   ]
  },
  {
   "cell_type": "code",
   "execution_count": null,
   "metadata": {
    "code_folding": [
     0
    ]
   },
   "outputs": [],
   "source": [
    "# open image\n",
    "image_autocropped = Image.open(output_path)\n",
    "\n",
    "# display image\n",
    "plt.imshow(image_autocropped)"
   ]
  },
  {
   "cell_type": "code",
   "execution_count": null,
   "metadata": {},
   "outputs": [],
   "source": []
  }
 ],
 "metadata": {
  "kernelspec": {
   "display_name": "Python 3",
   "language": "python",
   "name": "python3"
  },
  "language_info": {
   "codemirror_mode": {
    "name": "ipython",
    "version": 3
   },
   "file_extension": ".py",
   "mimetype": "text/x-python",
   "name": "python",
   "nbconvert_exporter": "python",
   "pygments_lexer": "ipython3",
   "version": "3.6.5"
  },
  "varInspector": {
   "cols": {
    "lenName": 16,
    "lenType": 16,
    "lenVar": 40
   },
   "kernels_config": {
    "python": {
     "delete_cmd_postfix": "",
     "delete_cmd_prefix": "del ",
     "library": "var_list.py",
     "varRefreshCmd": "print(var_dic_list())"
    },
    "r": {
     "delete_cmd_postfix": ") ",
     "delete_cmd_prefix": "rm(",
     "library": "var_list.r",
     "varRefreshCmd": "cat(var_dic_list()) "
    }
   },
   "types_to_exclude": [
    "module",
    "function",
    "builtin_function_or_method",
    "instance",
    "_Feature"
   ],
   "window_display": false
  }
 },
 "nbformat": 4,
 "nbformat_minor": 2
}
