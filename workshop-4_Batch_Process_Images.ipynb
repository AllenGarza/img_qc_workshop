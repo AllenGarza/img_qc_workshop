{
 "cells": [
  {
   "cell_type": "markdown",
   "metadata": {},
   "source": [
    "# Workshop Notebook 4: Batch Processing Images"
   ]
  },
  {
   "cell_type": "markdown",
   "metadata": {},
   "source": [
    "## Mandatory Disclosures\n",
    "\n",
    "1. This is a whirlwind introduction, not exhaustive instruction\n",
    "1. All images are by courtesy of the University Archives at Texas State University: http://www.univarchives.txstate.edu\n",
    "1. img_qc_workshop is licensed under the GNU General Public License v3.0, https://github.com/photosbyjeremy/img_qc_workshop/blob/master/LICENSE\n",
    "1. *Any and all code provided is done so without any warranty or expectation of support by Jeremy Moore, Todd Peters, or Texas State University*"
   ]
  },
  {
   "cell_type": "code",
   "execution_count": null,
   "metadata": {},
   "outputs": [],
   "source": [
    "image_directory = 'data/workshop-4/graduate_catalog-1966/'"
   ]
  },
  {
   "cell_type": "code",
   "execution_count": null,
   "metadata": {
    "code_folding": [
     0
    ]
   },
   "outputs": [],
   "source": [
    "# importing\n",
    "from pathlib import Path\n",
    "from PIL import Image\n",
    "import matplotlib.pyplot as plt\n",
    "\n",
    "# magic that lets us plot directly in the notebook\n",
    "%matplotlib inline\n",
    "\n",
    "# parameters for matplotlib to increase our default figure size -- NOTE: figure sizes are in INCHES\n",
    "plt.rcParams[\"figure.figsize\"] = (12,12)  # set as needed for your screen and eyes\n",
    "\n",
    "# on a high-dpi monitor this will increase the quality of plots on-screen\n",
    "%config InlineBackend.figure_format = 'retina'"
   ]
  },
  {
   "cell_type": "markdown",
   "metadata": {},
   "source": [
    "## Get Image Paths Using a Generator"
   ]
  },
  {
   "cell_type": "code",
   "execution_count": null,
   "metadata": {
    "code_folding": [],
    "scrolled": true
   },
   "outputs": [],
   "source": [
    "# get image_paths for TIFF images\n",
    "image_paths = Path(image_directory).glob('*.tif')\n",
    "\n",
    "image_paths"
   ]
  },
  {
   "cell_type": "code",
   "execution_count": null,
   "metadata": {},
   "outputs": [],
   "source": [
    "# get image_paths list\n",
    "image_paths_list = list(image_paths)\n",
    "\n",
    "image_paths_list"
   ]
  },
  {
   "cell_type": "code",
   "execution_count": null,
   "metadata": {},
   "outputs": [],
   "source": [
    "# try to get sorted image_paths list\n",
    "image_paths_list = sorted(image_paths)\n",
    "\n",
    "image_paths_list"
   ]
  },
  {
   "cell_type": "markdown",
   "metadata": {},
   "source": [
    "## Generator Objects Get Used Up\n",
    "\n",
    "`image_paths = Path(image_directory).glob('*.tif')` created a generator that gets used up, which saves on memory and speeds up operations. So we need to call it again if we want to get a sorted image_paths_list"
   ]
  },
  {
   "cell_type": "code",
   "execution_count": null,
   "metadata": {},
   "outputs": [],
   "source": [
    "# get image_paths for TIFF images\n",
    "image_paths = Path(image_directory).glob('*.tif')\n",
    "\n",
    "image_paths_list = sorted(image_paths)\n",
    "\n",
    "image_paths_list"
   ]
  },
  {
   "cell_type": "markdown",
   "metadata": {},
   "source": [
    "## Load First Image\n",
    "\n",
    "We will use the first image to find the settings we need for all images"
   ]
  },
  {
   "cell_type": "code",
   "execution_count": null,
   "metadata": {
    "code_folding": []
   },
   "outputs": [],
   "source": [
    "# open first image in our list\n",
    "image = Image.open(image_paths_list[0])  # list slicing\n",
    "\n",
    "# show image\n",
    "plt.imshow(image)"
   ]
  },
  {
   "cell_type": "markdown",
   "metadata": {},
   "source": [
    "## Crop\n",
    "\n",
    "Crop into the image on the top and left to make sure the black is cropped out"
   ]
  },
  {
   "cell_type": "code",
   "execution_count": null,
   "metadata": {
    "code_folding": []
   },
   "outputs": [],
   "source": [
    "# crop image\n",
    "image_cropped = image.crop(box=(15, 15, 3400, 5100))  # start at pixel (15, 15) in upper-left to (3450, 5100) in bottom-right\n",
    "\n",
    "# show image\n",
    "plt.imshow(image_cropped)"
   ]
  },
  {
   "cell_type": "markdown",
   "metadata": {},
   "source": [
    "## Expand Canvas"
   ]
  },
  {
   "cell_type": "code",
   "execution_count": null,
   "metadata": {
    "code_folding": [],
    "scrolled": true
   },
   "outputs": [],
   "source": [
    "# sizes for expanding image canvas\n",
    "\n",
    "# get width_old & height\n",
    "(width_old, height_old) = image_cropped.size  # (width, height)\n",
    "\n",
    "# set width_new & height\n",
    "width_new = 600 * 6 # 600 ppi * 6 in.\n",
    "height_new = 600 * 9  # 600 ppi * 9 in.\n",
    "\n",
    "dimensions_dictionary = {'width_old': width_old,\n",
    "                         'height_old': height_old,\n",
    "                         'width_new': width_new,\n",
    "                         'height_new': height_new\n",
    "                        }\n",
    "\n",
    "for dimension in dimensions_dictionary:\n",
    "    print(f'{dimension}: {dimensions_dictionary[dimension]}')"
   ]
  },
  {
   "cell_type": "code",
   "execution_count": null,
   "metadata": {
    "code_folding": []
   },
   "outputs": [],
   "source": [
    "# get border sizes\n",
    "\n",
    "# set width_border & height_border by subtracting old dimension from new and\n",
    "# divide by 2 to account for each side of the image\n",
    "width_border = (width_new - width_old) // 2  # integer division so we don't get part of a pixel with a float\n",
    "height_border = (height_new - height_old) // 2\n",
    "\n",
    "width_border, height_border"
   ]
  },
  {
   "cell_type": "code",
   "execution_count": null,
   "metadata": {
    "code_folding": []
   },
   "outputs": [],
   "source": [
    "# expand image with ImageOps.expand\n",
    "\n",
    "# import Pillow's ImageOps\n",
    "from PIL import ImageOps\n",
    "\n",
    "# add white border to image\n",
    "image_with_border = ImageOps.expand(image_cropped, border=(width_border, height_border), fill='white')\n",
    "\n",
    "# show image\n",
    "plt.imshow(image_with_border)"
   ]
  },
  {
   "cell_type": "code",
   "execution_count": null,
   "metadata": {
    "code_folding": []
   },
   "outputs": [],
   "source": [
    "# get image dimensions to verify it's 6 x 9 in. @ 600ppi\n",
    "image_with_border.size  # (width, height)"
   ]
  },
  {
   "cell_type": "markdown",
   "metadata": {},
   "source": [
    "## Expand Canvas, Take 2\n",
    "\n",
    "ImageOps.expand doesn't allow us to adjust each side independently and we have an odd border size to add.\n",
    "\n",
    "Can add 1 pixel to the border we're adding above, but then the sizes will be 1 pixel too much! We need a different way of expanding the border.\n",
    "\n",
    "Let's create a new image the size we want and paste our image in the center! (Or 1 pixel off from center.)"
   ]
  },
  {
   "cell_type": "code",
   "execution_count": null,
   "metadata": {
    "code_folding": []
   },
   "outputs": [],
   "source": [
    "# create new bitonal image \n",
    "image_new = Image.new(mode='1', size=(width_new, height_new), color='white')\n",
    "\n",
    "# show image\n",
    "plt.imshow(image_new)"
   ]
  },
  {
   "cell_type": "code",
   "execution_count": null,
   "metadata": {
    "code_folding": []
   },
   "outputs": [],
   "source": [
    "# paste image_cropped into the center of image_new\n",
    "image_new.paste(image_cropped, box=(width_border, height_border))  # box = 2-tuple for upper-left corner\n",
    "\n",
    "# show image\n",
    "plt.imshow(image_new)"
   ]
  },
  {
   "cell_type": "markdown",
   "metadata": {},
   "source": [
    "## Save Image"
   ]
  },
  {
   "cell_type": "code",
   "execution_count": null,
   "metadata": {
    "code_folding": []
   },
   "outputs": [],
   "source": [
    "# save image\n",
    "image_new.save('data/workshop-4/test.tif', compression='group4', dpi=(600., 600.))  # set dpi with floats, ints fail\n",
    "\n",
    "# open image\n",
    "test_image = Image.open('data/workshop-4/test.tif')\n",
    "\n",
    "# get info on image\n",
    "print(test_image.mode)\n",
    "print(test_image.info)\n",
    "print(f'width: {test_image.size[0]} pixels')  # (width, height)\n",
    "print(f'height: {test_image.size[1]} pixels')      "
   ]
  },
  {
   "cell_type": "markdown",
   "metadata": {},
   "source": [
    "## Batch Process all Image Paths"
   ]
  },
  {
   "cell_type": "code",
   "execution_count": null,
   "metadata": {
    "code_folding": [],
    "scrolled": true
   },
   "outputs": [],
   "source": [
    "# crop, expand, and save all images\n",
    "\n",
    "# set width_new & height\n",
    "# NOTE: already set above, but including here to remember what we set\n",
    "width_new = 600 * 6 # 600 ppi * 6 in.\n",
    "height_new = 600 * 9  # 600 ppi * 9 in.\n",
    "\n",
    "def crop_and_expand_bitonal_images(image_paths_list, width_new, height_new, crop_box):\n",
    "    for image_path in image_paths_list:\n",
    "        \n",
    "        # open image\n",
    "        image = Image.open(image_path)\n",
    "        \n",
    "        # crop image\n",
    "        image_cropped = image.crop(box=crop_box)\n",
    "        \n",
    "        # get width_old & height_old\n",
    "        (width_old, height_old) = image_cropped.size\n",
    "        \n",
    "        # get border sizes\n",
    "        # set width_border & height_border by subtracting old dimension from new and\n",
    "        # divide by 2 to account for each side of the image\n",
    "        width_border = (width_new - width_old) // 2  # integer division so we don't get part of a pixel with a float\n",
    "        height_border = (height_new - height_old) // 2\n",
    "        \n",
    "        # create new bitonal image \n",
    "        image_new = Image.new(mode='1', size=(width_new, height_new), color='white')\n",
    "    \n",
    "        # paste image_cropped into the center of image_new\n",
    "        image_new.paste(image_cropped, box=(width_border, height_border))  # box = 2-tuple for upper-left corner\n",
    "    \n",
    "        # get image name\n",
    "        image_name = image_path.name\n",
    "    \n",
    "        # set output path\n",
    "        output_path = Path('data/workshop-4/output/').joinpath(image_name)\n",
    "    \n",
    "        # save image\n",
    "        image_new.save(output_path, compression='group4', dpi=(600., 600.))  # set dpi with floats, ints fail\n",
    "        \n",
    "        # create a new MatPlotLib figure so we can plot each image\n",
    "        plt.figure()\n",
    "        \n",
    "        # show image\n",
    "        plt.imshow(image_new)\n",
    "        \n",
    "crop_and_expand_bitonal_images(image_paths_list, width_new, height_new, crop_box=(15, 15, 3400, 5100))"
   ]
  },
  {
   "cell_type": "markdown",
   "metadata": {},
   "source": [
    "## Rotate every other image, save as Group4 compressed TIFF, resize, & save as JPEG\n",
    "\n",
    "Every other image (odd numbered images) needs to be rotated 180 degrees.\n",
    "\n",
    "Save as Group4 compressed TIFF image.\n",
    "\n",
    "Resize to 900 pixel width.\n",
    "\n",
    "Save as JPEG: http://pillow.readthedocs.io/en/5.1.x/handbook/image-file-formats.html#jpeg"
   ]
  },
  {
   "cell_type": "code",
   "execution_count": null,
   "metadata": {
    "code_folding": [
     0
    ]
   },
   "outputs": [],
   "source": [
    "# === resize function using ratio\n",
    "def get_resized_pillow_image(image, width=None, height=None, resample=Image.BICUBIC):\n",
    "    # initialize the dimensions of the image to be resized and\n",
    "    # grab the image size\n",
    "    dimensions = None\n",
    "    (starting_width, starting_height) = image.size\n",
    "\n",
    "    # if both the width and height are None, then return the\n",
    "    # original image\n",
    "    if width is None and height is None:\n",
    "        return image\n",
    "\n",
    "    # check to see if the width is None\n",
    "    if width is None:\n",
    "        # calculate the ratio of the height and construct the\n",
    "        # dimensions\n",
    "        ratio = int(height) / float(starting_height)\n",
    "        dimensions = (int(starting_width * ratio)), int(height)\n",
    "\n",
    "    # otherwise, the height is None\n",
    "    else:\n",
    "        # calculate the ratio of the width and construct the\n",
    "        # dimensions\n",
    "        ratio = int(width) / float(starting_width)\n",
    "        dimensions = (int(width), int(starting_height * ratio))\n",
    "\n",
    "    # resize the image\n",
    "    resized_image = image.resize(dimensions, resample=resample)\n",
    "\n",
    "    # return the resized image\n",
    "    return resized_image"
   ]
  },
  {
   "cell_type": "code",
   "execution_count": null,
   "metadata": {
    "code_folding": [
     0
    ],
    "scrolled": true
   },
   "outputs": [],
   "source": [
    "# crop, expand, and save all images as Group4 compressed TIFFs and 900 pixel width JPEGs\n",
    "# rotate every other image\n",
    "\n",
    "# set width_new & height\n",
    "# NOTE: already set above, but including here to remember what we set\n",
    "width_new = 600 * 6 # 600 ppi * 6 in.\n",
    "height_new = 600 * 9  # 600 ppi * 9 in.\n",
    "\n",
    "def crop_expand_and_rotate_bitonal_images(image_paths_list, width_new, height_new, crop_box):\n",
    "    for image_path in image_paths_list:\n",
    "        \n",
    "        # open image\n",
    "        image = Image.open(image_path)\n",
    "        \n",
    "        # crop image\n",
    "        image_cropped = image.crop(box=crop_box)\n",
    "        \n",
    "        # get width_old & height_old\n",
    "        (width_old, height_old) = image_cropped.size\n",
    "        \n",
    "        # get border sizes\n",
    "        # set width_border & height_border by subtracting old dimension from new and\n",
    "        # divide by 2 to account for each side of the image\n",
    "        width_border = (width_new - width_old) // 2  # integer division so we don't get part of a pixel with a float\n",
    "        height_border = (height_new - height_old) // 2\n",
    "        \n",
    "        # create new bitonal image \n",
    "        image_new = Image.new(mode='1', size=(width_new, height_new), color=255)\n",
    "    \n",
    "        # paste image_cropped into the center of image_new\n",
    "        image_new.paste(image_cropped, box=(width_border, height_border))  # box = 2-tuple for upper-left corner\n",
    "    \n",
    "        # get image name\n",
    "        image_name = image_path.name  # includes extension\n",
    "        \n",
    "        # get image stem\n",
    "        image_stem = image_path.stem  # does NOT include extension\n",
    "        \n",
    "        # get last character from image_stem\n",
    "        last_character = image_stem[-1]  # list slicing\n",
    "        \n",
    "        # if last_character is even\n",
    "        if int(last_character) % 2 == 0:  # set last_character as integer for modulus operation\n",
    "            \n",
    "            # rotate 180 degrees -- rotations divisible by 90 degrees do not require interpolation\n",
    "            image_new = image_new.rotate(180)\n",
    "    \n",
    "        # set output path\n",
    "        output_path = Path('data/workshop-4/output/').joinpath(image_name)\n",
    "    \n",
    "        # save image with group4 compression and 600 dpi\n",
    "        image_new.save(output_path, compression='group4', dpi=(600., 600.))  # set dpi with floats, ints fail\n",
    "        \n",
    "        # set jpeg name\n",
    "        jpeg_name = image_stem + '.jpg'\n",
    "        \n",
    "        # set jpeg output path\n",
    "        jpeg_output_path = Path('data/workshop-4/output/').joinpath(jpeg_name)\n",
    "        \n",
    "        # resize image_new to 1500 pixel height\n",
    "        image_resized = get_resized_pillow_image(image_new, width=900)\n",
    "        \n",
    "        image_resized.save(jpeg_output_path, quality=80, optimize=True)  # default quality is 75\n",
    "        \n",
    "        # create a new MatPlotLib figure so we can plot each image\n",
    "        plt.figure()\n",
    "        \n",
    "        # show image\n",
    "        plt.imshow(image_resized)\n",
    "        \n",
    "crop_expand_and_rotate_bitonal_images(image_paths_list, width_new, height_new, crop_box=(15, 15, 3400, 5100))"
   ]
  },
  {
   "cell_type": "code",
   "execution_count": null,
   "metadata": {},
   "outputs": [],
   "source": []
  }
 ],
 "metadata": {
  "kernelspec": {
   "display_name": "Python 3",
   "language": "python",
   "name": "python3"
  },
  "language_info": {
   "codemirror_mode": {
    "name": "ipython",
    "version": 3
   },
   "file_extension": ".py",
   "mimetype": "text/x-python",
   "name": "python",
   "nbconvert_exporter": "python",
   "pygments_lexer": "ipython3",
   "version": "3.6.5"
  },
  "varInspector": {
   "cols": {
    "lenName": 16,
    "lenType": 16,
    "lenVar": 40
   },
   "kernels_config": {
    "python": {
     "delete_cmd_postfix": "",
     "delete_cmd_prefix": "del ",
     "library": "var_list.py",
     "varRefreshCmd": "print(var_dic_list())"
    },
    "r": {
     "delete_cmd_postfix": ") ",
     "delete_cmd_prefix": "rm(",
     "library": "var_list.r",
     "varRefreshCmd": "cat(var_dic_list()) "
    }
   },
   "types_to_exclude": [
    "module",
    "function",
    "builtin_function_or_method",
    "instance",
    "_Feature"
   ],
   "window_display": false
  }
 },
 "nbformat": 4,
 "nbformat_minor": 2
}
