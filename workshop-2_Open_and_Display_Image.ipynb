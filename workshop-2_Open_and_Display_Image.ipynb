{
 "cells": [
  {
   "cell_type": "markdown",
   "metadata": {},
   "source": [
    "# Workshop Notebook 2: Open and Display an Image with Pillow and MatPlotLib"
   ]
  },
  {
   "cell_type": "markdown",
   "metadata": {},
   "source": [
    "## Mandatory Disclosures\n",
    "\n",
    "1. This is a whirlwind introduction, not exhaustive instruction\n",
    "1. All images are by courtesy of the University Archives at Texas State University: http://www.univarchives.txstate.edu\n",
    "1. img_qc_workshop is licensed under the GNU General Public License v3.0, https://github.com/photosbyjeremy/img_qc_workshop/blob/master/LICENSE\n",
    "1. *Any and all code provided is done so without any warranty or expectation of support by Jeremy Moore, Todd Peters, or Texas State University*"
   ]
  },
  {
   "cell_type": "markdown",
   "metadata": {},
   "source": [
    "## Importing Python Modules"
   ]
  },
  {
   "cell_type": "code",
   "execution_count": null,
   "metadata": {
    "code_folding": [
     0
    ],
    "scrolled": true
   },
   "outputs": [],
   "source": [
    "# we can use pathlib to access the file directory system\n",
    "# https://docs.python.org/3/library/pathlib.html\n",
    "from pathlib import Path\n",
    "\n",
    "# function dir() lets us inspect the namespaces available in a Python module\n",
    "dir(Path)"
   ]
  },
  {
   "cell_type": "markdown",
   "metadata": {},
   "source": [
    "## Set Working Directories"
   ]
  },
  {
   "cell_type": "code",
   "execution_count": null,
   "metadata": {
    "code_folding": [
     0
    ]
   },
   "outputs": [],
   "source": [
    "# set current_directory with Path function cwd() [Current Working Directory]\n",
    "current_directory = Path.cwd()\n",
    "\n",
    "# path to access our image\n",
    "image_path = current_directory.joinpath('data/workshop-2/AS-36-T4-C36-1978_0106.tif')\n",
    "\n",
    "print(f'current_directory: {current_directory}')\n",
    "print(f'image_path: {image_path}')"
   ]
  },
  {
   "cell_type": "code",
   "execution_count": null,
   "metadata": {
    "code_folding": [
     0
    ]
   },
   "outputs": [],
   "source": [
    "# import Image class from the new Python Imaging Library, Pillow\n",
    "# http://pillow.readthedocs.io/en/stable/\n",
    "from PIL import Image\n",
    "\n",
    "# the dir(<module>) function returns the namespaces available for a particular module\n",
    "dir(Image)"
   ]
  },
  {
   "cell_type": "markdown",
   "metadata": {},
   "source": [
    "## Open Image"
   ]
  },
  {
   "cell_type": "code",
   "execution_count": null,
   "metadata": {
    "code_folding": [
     0
    ],
    "scrolled": true
   },
   "outputs": [],
   "source": [
    "# open image\n",
    "image = Image.open(image_path)\n",
    "print(image)\n",
    "print('')\n",
    "\n",
    "print(f'image.format: {image.format}')\n",
    "print(f'image.size: {image.size}')  # (width, height)\n",
    "print(f'image.mode: {image.mode}')\n",
    "print('')\n",
    "\n",
    "for index, data in enumerate(image.info):\n",
    "    print(f'{index} key: {data}')\n",
    "    print('')\n",
    "    print(f'{index} value: {image.info[data]}')\n",
    "    print('')"
   ]
  },
  {
   "cell_type": "markdown",
   "metadata": {},
   "source": [
    "## Plot Image"
   ]
  },
  {
   "cell_type": "code",
   "execution_count": null,
   "metadata": {
    "code_folding": [
     0
    ],
    "scrolled": true
   },
   "outputs": [],
   "source": [
    "# MatPlotLib will let us plot images (and other types of graphs)\n",
    "# https://matplotlib.org/2.2.2/index.html\n",
    "import matplotlib.pyplot as plt\n",
    "\n",
    "# magic that lets us plot directly in the notebook\n",
    "%matplotlib inline\n",
    "\n",
    "# parameters for matplotlib to increase our figure size -- NOTE: figure sizes are in INCHES\n",
    "plt.rcParams[\"figure.figsize\"] = (10,10)\n",
    "\n",
    "# on a high-dpi monitor this will increase the quality of plots on-screen\n",
    "%config InlineBackend.figure_format = 'retina'\n",
    "\n",
    "dir(plt)"
   ]
  },
  {
   "cell_type": "code",
   "execution_count": null,
   "metadata": {
    "code_folding": [
     0
    ]
   },
   "outputs": [],
   "source": [
    "# show our image\n",
    "plt.imshow(image)"
   ]
  }
 ],
 "metadata": {
  "kernelspec": {
   "display_name": "Python 3",
   "language": "python",
   "name": "python3"
  },
  "language_info": {
   "codemirror_mode": {
    "name": "ipython",
    "version": 3
   },
   "file_extension": ".py",
   "mimetype": "text/x-python",
   "name": "python",
   "nbconvert_exporter": "python",
   "pygments_lexer": "ipython3",
   "version": "3.6.5"
  },
  "toc": {
   "base_numbering": 1,
   "nav_menu": {},
   "number_sections": true,
   "sideBar": true,
   "skip_h1_title": false,
   "title_cell": "Table of Contents",
   "title_sidebar": "Contents",
   "toc_cell": false,
   "toc_position": {},
   "toc_section_display": true,
   "toc_window_display": false
  },
  "varInspector": {
   "cols": {
    "lenName": 16,
    "lenType": 16,
    "lenVar": 40
   },
   "kernels_config": {
    "python": {
     "delete_cmd_postfix": "",
     "delete_cmd_prefix": "del ",
     "library": "var_list.py",
     "varRefreshCmd": "print(var_dic_list())"
    },
    "r": {
     "delete_cmd_postfix": ") ",
     "delete_cmd_prefix": "rm(",
     "library": "var_list.r",
     "varRefreshCmd": "cat(var_dic_list()) "
    }
   },
   "types_to_exclude": [
    "module",
    "function",
    "builtin_function_or_method",
    "instance",
    "_Feature"
   ],
   "window_display": false
  }
 },
 "nbformat": 4,
 "nbformat_minor": 2
}
