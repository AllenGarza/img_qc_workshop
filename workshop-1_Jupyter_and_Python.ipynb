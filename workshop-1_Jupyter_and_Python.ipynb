{
 "cells": [
  {
   "cell_type": "markdown",
   "metadata": {},
   "source": [
    "# Workshop Notebook 1: Introduction to Jupyter & Python"
   ]
  },
  {
   "cell_type": "markdown",
   "metadata": {},
   "source": [
    "## Mandatory Disclosures\n",
    "\n",
    "1. This is a whirlwind introduction, not exhaustive instruction\n",
    "1. All images are by courtesy of the University Archives at Texas State University: http://www.univarchives.txstate.edu\n",
    "1. img_qc_workshop is licensed under the GNU General Public License v3.0, https://github.com/photosbyjeremy/img_qc_workshop/blob/master/LICENSE\n",
    "1. *Any and all code provided is done so without any warranty or expectation of support by Jeremy Moore, Todd Peters, or Texas State University*"
   ]
  },
  {
   "cell_type": "markdown",
   "metadata": {},
   "source": [
    "## Jupyter Notebooks\n",
    "\n",
    "Click on *Help > User Interface Tour* in the menu for a quick introduction to the UI\n",
    "\n",
    "* What you HAVE to know:\n",
    " - Cells can contain Markdown, code, or raw text\n",
    " - Click on a cell to select it and click again to modify its content\n",
    " - **Shift+Enter to execute a cell and select the next one** (Ctrl+Enter if you do not want to select the next one)\n",
    " \n",
    "\n",
    "* What's helpful to know:\n",
    "  - You can copy/paste and insert/remove cell using the menu above\n",
    "  - **Keyboard Shortcuts!!**\n",
    "      - a: add cell before selected cell\n",
    "      - b: add cell after selected cell\n",
    "      - dd: delete selected cell"
   ]
  },
  {
   "cell_type": "code",
   "execution_count": null,
   "metadata": {},
   "outputs": [],
   "source": [
    "# This is a code cell.\n",
    "\n",
    "# Comments can be entered in a code cell after the pound-sign\n",
    "x = 'variable'\n",
    "print(f'x is a {x}')"
   ]
  },
  {
   "cell_type": "markdown",
   "metadata": {},
   "source": [
    "This is a Markdown cell.\n",
    "\n",
    "\"Markdown is a text-to-HTML conversion tool for web writers.\"\n",
    "-- https://daringfireball.net/projects/markdown/"
   ]
  },
  {
   "cell_type": "raw",
   "metadata": {},
   "source": [
    "This is Raw NBConvert Cell.\n",
    "\n",
    "Write raw LaTeX or other formats here. \"Running\" this cell does nothing.\n",
    "\n",
    "Raw text is included in any NBConvert output. NBConvert is a program that will convert your notebook into the other formats such as PDF, see File > Download as > \n",
    "\n",
    "NOTE: using NBConvert requires additional installs: https://nbconvert.readthedocs.io/en/latest/install.html"
   ]
  },
  {
   "cell_type": "markdown",
   "metadata": {},
   "source": [
    "## Python\n",
    "\n",
    "Python 3.6 Documentation: https://docs.python.org/3.6/\n",
    "\n",
    "Python is a language, and like a language has both syntax and nuance. We'll focus on syntax :)\n",
    "\n",
    "If you're new to programming, hold onto hat as we're going to jump through this QUICKLY!"
   ]
  },
  {
   "cell_type": "code",
   "execution_count": null,
   "metadata": {},
   "outputs": [],
   "source": [
    "variable = 'code cell'\n",
    "print(f'This is a {variable}')\n",
    "\n",
    "variable = 'hello world'\n",
    "print(f'{variable}')  # this is a comment and comments don't print"
   ]
  },
  {
   "cell_type": "markdown",
   "metadata": {},
   "source": [
    "Python can also return numbers and do math without needing it to be printed"
   ]
  },
  {
   "cell_type": "code",
   "execution_count": null,
   "metadata": {},
   "outputs": [],
   "source": [
    "3"
   ]
  },
  {
   "cell_type": "code",
   "execution_count": null,
   "metadata": {},
   "outputs": [],
   "source": [
    "3 + 3"
   ]
  },
  {
   "cell_type": "markdown",
   "metadata": {},
   "source": [
    "Math is simple to do with Python, most can be typed in like a calculator, though there is a difference between floating-point and integer division.\n",
    "\n",
    "Floating-point division should be written with floating-point numbers ``3.0 / 2.0`` and integer vidision with two slashes ``3//2``"
   ]
  },
  {
   "cell_type": "code",
   "execution_count": null,
   "metadata": {},
   "outputs": [],
   "source": [
    "3.0 / 2.0  # floating-point division"
   ]
  },
  {
   "cell_type": "code",
   "execution_count": null,
   "metadata": {},
   "outputs": [],
   "source": [
    "3 // 2  # integer division"
   ]
  },
  {
   "cell_type": "code",
   "execution_count": null,
   "metadata": {},
   "outputs": [],
   "source": [
    "3 / 2  # Python 3 defaults to floating-point division"
   ]
  },
  {
   "cell_type": "markdown",
   "metadata": {},
   "source": [
    "Variables can be set singly, or multiple can be defined at one time."
   ]
  },
  {
   "cell_type": "code",
   "execution_count": null,
   "metadata": {},
   "outputs": [],
   "source": [
    "x = 3"
   ]
  },
  {
   "cell_type": "code",
   "execution_count": null,
   "metadata": {},
   "outputs": [],
   "source": [
    "floating_point_division = x / 2.0\n",
    "\n",
    "floating_point_division"
   ]
  },
  {
   "cell_type": "markdown",
   "metadata": {},
   "source": [
    "Defining several variables at once is a process called **unpacking**."
   ]
  },
  {
   "cell_type": "code",
   "execution_count": null,
   "metadata": {},
   "outputs": [],
   "source": [
    "x, y = 5, 3"
   ]
  },
  {
   "cell_type": "code",
   "execution_count": null,
   "metadata": {},
   "outputs": [],
   "source": [
    "integer_division = x // y\n",
    "\n",
    "integer_division"
   ]
  },
  {
   "cell_type": "markdown",
   "metadata": {},
   "source": [
    "Integer division doesn't round up or down, but we can get the remainder with the modulo, which is what is left over after"
   ]
  },
  {
   "cell_type": "code",
   "execution_count": null,
   "metadata": {},
   "outputs": [],
   "source": [
    "5 % 3  # modulo"
   ]
  },
  {
   "cell_type": "markdown",
   "metadata": {},
   "source": [
    "## Pixels\n",
    "\n",
    "The pixel is the basic building block of the image and is defined by its intensity (think *value from dark to light*) and possibly its channel. The range of intensities can vary as can the number and type of channels.\n",
    "\n",
    "Bitonal, or black & white pixels, have two possible intensities: black and white. A grayscale image pixel's intensity varies with the bit-depth of the pixel. "
   ]
  },
  {
   "cell_type": "markdown",
   "metadata": {},
   "source": [
    "## Bit Depth\n",
    "\n",
    "In an **8-bit grayscale** digital image, the intensity (think *value from dark to light*) of each pixel is defined by 8 individual bits.\n",
    "\n",
    "A bit can either be on, with a value of 1, or off, with a value of 0.\n",
    "\n",
    "We can find the total number of possible intensities by finding the total possible mathematical combinations for each bit of the pixel. This is done mathematically by raising the total **bit_possibilities** to the power of the number of **bits_per_pixel**."
   ]
  },
  {
   "cell_type": "code",
   "execution_count": null,
   "metadata": {},
   "outputs": [],
   "source": [
    "x, y = bit_possibilities, bits_per_pixel = 2, 8\n",
    "\n",
    "x ** y"
   ]
  },
  {
   "cell_type": "markdown",
   "metadata": {},
   "source": [
    "Exponents can be written using 2 asterisks ``x ** y``"
   ]
  },
  {
   "cell_type": "code",
   "execution_count": null,
   "metadata": {},
   "outputs": [],
   "source": [
    "possible_intensities = bit_possibilities ** bits_per_pixel\n",
    "\n",
    "possible_intensities"
   ]
  },
  {
   "cell_type": "markdown",
   "metadata": {},
   "source": [
    "Functions are bits of code that can be re-used over & over, like Photoshop Actions or Excel Macros. Python has many built-in functions, one of these is ``print()``.\n",
    "\n",
    "You have already seen ``print()`` used above and we are using what are called *formatted string literals*, which is a scary word for Python will automagically format variables within ``{}`` brackets when printing. This makes our print statements easier to write and read."
   ]
  },
  {
   "cell_type": "code",
   "execution_count": null,
   "metadata": {},
   "outputs": [],
   "source": [
    "print(f'possible_intensities = {possible_intensities}')\n",
    "\n",
    "range(possible_intensities)  # when iterated over, the range will\n",
    "# start with x and end at y - 1 in range(x, y)"
   ]
  },
  {
   "cell_type": "markdown",
   "metadata": {},
   "source": [
    "For loops are an important part of what we will need to iterate over images and can be as simple as counting to 3.\n",
    "\n",
    "NOTE: Programmers like to start counting with 0!"
   ]
  },
  {
   "cell_type": "code",
   "execution_count": null,
   "metadata": {},
   "outputs": [],
   "source": [
    "for number in range(3):  # for x in range(y)\n",
    "    print(number)  # print x\n"
   ]
  },
  {
   "cell_type": "code",
   "execution_count": null,
   "metadata": {},
   "outputs": [],
   "source": [
    "for x in range(possible_intensities):\n",
    "    print(x)"
   ]
  },
  {
   "cell_type": "markdown",
   "metadata": {},
   "source": [
    "## Color Channels\n",
    "\n",
    "Expanding our discussion to include 24-bit RGB color images, we first break the 24-bits per pixel down into individual color channels. Each 24-bit RGB color image pixel is made up of 3 * 8-bit color channels: Red (R), Green (G), and Blue (B).\n",
    "\n",
    "To compute the total **possible_intensities** for a 24-bit RGB color image pixel first define the **bits_per_pixel** as **bits_per_channel** * **number_of_channels**. "
   ]
  },
  {
   "cell_type": "code",
   "execution_count": null,
   "metadata": {},
   "outputs": [],
   "source": [
    "x, y, z = bit_possibilities, bits_per_channel, number_of_channels = 2, 8, 3\n",
    "bits_per_pixel = bits_per_channel * number_of_channels  # 8 * 3\n",
    "\n",
    "bits_per_pixel"
   ]
  },
  {
   "cell_type": "code",
   "execution_count": null,
   "metadata": {},
   "outputs": [],
   "source": [
    "possible_intensities = bit_possibilities ** bits_per_pixel  # 2 ** 24\n",
    "\n",
    "possible_intensities"
   ]
  },
  {
   "cell_type": "markdown",
   "metadata": {},
   "source": [
    "So with 3 channels of 256 **possible_intensities** there are 1.67 million possibilities for each pixel in a 24-bit RGB color image."
   ]
  },
  {
   "cell_type": "markdown",
   "metadata": {},
   "source": [
    "Moving on . . . \n",
    "\n",
    "Lists are sequences of items that you can perform repeated actions on the elements of; you can explicitly or programmatically create lists."
   ]
  },
  {
   "cell_type": "code",
   "execution_count": null,
   "metadata": {},
   "outputs": [],
   "source": [
    "list_1 = [3, 4, 1, 0, 44, 13, 9]  # explicitly stated\n",
    "\n",
    "list_1"
   ]
  },
  {
   "cell_type": "markdown",
   "metadata": {},
   "source": [
    "Many of Python's built-in functions can be used on lists, such as taking the length of a list, finding the sum of integers in a list, and list manipulation via slicing the list by the index number of the items."
   ]
  },
  {
   "cell_type": "code",
   "execution_count": null,
   "metadata": {},
   "outputs": [],
   "source": [
    "# list_2 is made of up 3 elements:\n",
    "# 1. length of list 1\n",
    "# 2. sum of a sub-list of list_1 starting at item 0 through item n - 1 (0 - 1)\n",
    "# 3. subtract 2 from the last item in list_1 grabbed via index number\n",
    "list_2 = [len(list_1), sum(list_1[0:2]), (list_1[-1] - 2)]\n",
    "\n",
    "list_2"
   ]
  },
  {
   "cell_type": "markdown",
   "metadata": {},
   "source": [
    "Items can be explicitly or programmatically changed in the list via the index numbers by using square brackets"
   ]
  },
  {
   "cell_type": "code",
   "execution_count": null,
   "metadata": {},
   "outputs": [],
   "source": [
    "sublist_1 = list_1[1:3]\n",
    "\n",
    "sublist_1"
   ]
  },
  {
   "cell_type": "code",
   "execution_count": null,
   "metadata": {},
   "outputs": [],
   "source": [
    "sublist_2 = list_1[1:8:3]\n",
    "\n",
    "sublist_2"
   ]
  },
  {
   "cell_type": "code",
   "execution_count": null,
   "metadata": {},
   "outputs": [],
   "source": [
    "print(f'list_1: {list_1}')\n",
    "print(f'sublist_1: {sublist_1}')\n",
    "\n",
    "sublist_1[1] = 9\n",
    "\n",
    "print('*******************')\n",
    "print(f'list_1 after changing sublist_1: {list_1}')\n",
    "print(f'sublist_1 after changing sublist_1: {sublist_1}')\n",
    "\n",
    "list_1[1] = 22\n",
    "\n",
    "print('*******************')\n",
    "print(f'list_1 after changing list_1: {list_1}')\n",
    "print(f'sublist_1 after changing list_1: {sublist_1}')"
   ]
  },
  {
   "cell_type": "markdown",
   "metadata": {},
   "source": [
    "Tuples are immutable and contain a fixed number of elements."
   ]
  },
  {
   "cell_type": "code",
   "execution_count": null,
   "metadata": {},
   "outputs": [],
   "source": [
    "tuple_1 = (1, 2, 3)\n",
    "\n",
    "# tuple_1[1] = 3 will throw a TypeError because tuples cannot be changed\n",
    "# Tuples are immutable\n",
    "tuple_1[1] = 3"
   ]
  },
  {
   "cell_type": "markdown",
   "metadata": {},
   "source": [
    "Dictionaries contain unordered key-value pairs (if you need an ordered dictionary there is an OrderedDict structure that retains the insertion order, but let's not try to get too far off the path)."
   ]
  },
  {
   "cell_type": "code",
   "execution_count": null,
   "metadata": {},
   "outputs": [],
   "source": [
    "dictionary_1 = {'a': 1, 'b': 2, 'c': 3, 'key': 'value'}\n",
    "\n",
    "print(f\"b: {dictionary_1['b']}\")\n",
    "\n",
    "'key:', dictionary_1['key']  # calling the key returns the value"
   ]
  },
  {
   "cell_type": "markdown",
   "metadata": {},
   "source": [
    "Sets in Python are like mathematical sets, they contain distinct elements -- all items must be unique!"
   ]
  },
  {
   "cell_type": "code",
   "execution_count": null,
   "metadata": {},
   "outputs": [],
   "source": [
    "set_1 = set([1, 2, 3, 4, 3, 2, 1, 1])\n",
    "\n",
    "set_1"
   ]
  },
  {
   "cell_type": "markdown",
   "metadata": {},
   "source": [
    "List comprehensions are a quick way of writing for loops when creating a list. Compare them below"
   ]
  },
  {
   "cell_type": "code",
   "execution_count": null,
   "metadata": {},
   "outputs": [],
   "source": [
    "print(list_1)\n",
    "\n",
    "# create empty list to add to\n",
    "squares = []\n",
    "\n",
    "for item in list_1:  # don't forget the colon and indention after the for statement!\n",
    "    square = item * item\n",
    "    squares.append(square)\n",
    "\n",
    "print(squares)"
   ]
  },
  {
   "cell_type": "code",
   "execution_count": null,
   "metadata": {},
   "outputs": [],
   "source": [
    "print(list_1)\n",
    "\n",
    "squares = [item * item for item in list_1]\n",
    "\n",
    "print(squares)"
   ]
  },
  {
   "cell_type": "markdown",
   "metadata": {},
   "source": [
    "If statements, like for loops, are a staple of every programming language\n",
    "\n",
    "You can use an if statement to see if something even exists or not, but be warned it will throw an error if it does NOT exist!"
   ]
  },
  {
   "cell_type": "code",
   "execution_count": null,
   "metadata": {},
   "outputs": [],
   "source": [
    "if list_1:\n",
    "    print(f'list_1: {list_1}')\n",
    "    \n",
    "if list_17:\n",
    "    print(list_17)"
   ]
  },
  {
   "cell_type": "markdown",
   "metadata": {},
   "source": [
    "Python will automatically return Boolean values when comparisons are made"
   ]
  },
  {
   "cell_type": "code",
   "execution_count": null,
   "metadata": {},
   "outputs": [],
   "source": [
    "len(list_1) > 0"
   ]
  },
  {
   "cell_type": "code",
   "execution_count": null,
   "metadata": {},
   "outputs": [],
   "source": [
    "for item in list_1:\n",
    "    if item % 2 == 0 :  # if item is divided by 2 and remainder = 0\n",
    "        print(item)"
   ]
  },
  {
   "cell_type": "code",
   "execution_count": null,
   "metadata": {},
   "outputs": [],
   "source": [
    "odd = [item for item in list_1 if item % 2 == 1]\n",
    "\n",
    "odd"
   ]
  },
  {
   "cell_type": "markdown",
   "metadata": {},
   "source": [
    "And the last thing we'll cover in this notebook are functions. Functions have to be defined and can return a result if you so desire."
   ]
  },
  {
   "cell_type": "code",
   "execution_count": null,
   "metadata": {},
   "outputs": [],
   "source": [
    "def is_odd(number):\n",
    "    \"\"\"\n",
    "    Return whether an integer is odd or not\n",
    "    \"\"\"\n",
    "    return number % 2 == 1\n",
    "\n",
    "is_odd(26)"
   ]
  },
  {
   "cell_type": "code",
   "execution_count": null,
   "metadata": {},
   "outputs": [],
   "source": [
    "is_odd(33)"
   ]
  },
  {
   "cell_type": "code",
   "execution_count": null,
   "metadata": {},
   "outputs": [],
   "source": [
    "def odd_or_even(number):\n",
    "    \"\"\"\n",
    "    Return whether an integer is odd or even\n",
    "    \"\"\"\n",
    "    if number % 2 == 0:\n",
    "        return 'even'\n",
    "    else:\n",
    "        return 'odd'\n",
    "\n",
    "odd_or_even(13)"
   ]
  },
  {
   "cell_type": "code",
   "execution_count": null,
   "metadata": {},
   "outputs": [],
   "source": [
    "odd_or_even(-8)"
   ]
  }
 ],
 "metadata": {
  "kernelspec": {
   "display_name": "Python 3",
   "language": "python",
   "name": "python3"
  },
  "language_info": {
   "codemirror_mode": {
    "name": "ipython",
    "version": 3
   },
   "file_extension": ".py",
   "mimetype": "text/x-python",
   "name": "python",
   "nbconvert_exporter": "python",
   "pygments_lexer": "ipython3",
   "version": "3.6.5"
  },
  "varInspector": {
   "cols": {
    "lenName": 16,
    "lenType": 16,
    "lenVar": 40
   },
   "kernels_config": {
    "python": {
     "delete_cmd_postfix": "",
     "delete_cmd_prefix": "del ",
     "library": "var_list.py",
     "varRefreshCmd": "print(var_dic_list())"
    },
    "r": {
     "delete_cmd_postfix": ") ",
     "delete_cmd_prefix": "rm(",
     "library": "var_list.r",
     "varRefreshCmd": "cat(var_dic_list()) "
    }
   },
   "types_to_exclude": [
    "module",
    "function",
    "builtin_function_or_method",
    "instance",
    "_Feature"
   ],
   "window_display": false
  }
 },
 "nbformat": 4,
 "nbformat_minor": 2
}
