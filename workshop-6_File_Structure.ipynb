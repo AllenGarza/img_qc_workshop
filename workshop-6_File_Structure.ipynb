{
 "cells": [
  {
   "cell_type": "markdown",
   "metadata": {},
   "source": [
    "# Workshop Notebook 6: Working with File Structures"
   ]
  },
  {
   "cell_type": "markdown",
   "metadata": {
    "heading_collapsed": true
   },
   "source": [
    "## Mandatory Disclosures\n",
    "\n",
    "1. This is a whirlwind introduction, not exhaustive instruction\n",
    "1. All images are by courtesy of the University Archives at Texas State University: http://www.univarchives.txstate.edu\n",
    "1. img_qc_workshop is licensed under the GNU General Public License v3.0, https://github.com/photosbyjeremy/img_qc_workshop/blob/master/LICENSE\n",
    "1. *Any and all code provided is done so without any warranty or expectation of support by Jeremy Moore, Todd Peters, or Texas State University*"
   ]
  },
  {
   "cell_type": "markdown",
   "metadata": {
    "heading_collapsed": true
   },
   "source": [
    "## Output Directory Contents to CSV"
   ]
  },
  {
   "cell_type": "code",
   "execution_count": null,
   "metadata": {
    "hidden": true
   },
   "outputs": [],
   "source": [
    "start_directory = 'data/'"
   ]
  },
  {
   "cell_type": "code",
   "execution_count": null,
   "metadata": {
    "code_folding": [
     0
    ],
    "hidden": true,
    "scrolled": true
   },
   "outputs": [],
   "source": [
    "# === MAGICK HAPPENS HERE\n",
    "\n",
    "# import\n",
    "import csv\n",
    "from pathlib import Path\n",
    "\n",
    "# get path\n",
    "start_directory_path = Path(start_directory)\n",
    "\n",
    "# print status\n",
    "print(f'Getting list of files from {start_directory}')\n",
    "print('')\n",
    "\n",
    "# get sorted list of all things in start_directory\n",
    "all_things_list = sorted(list(start_directory_path.glob('**/*')))\n",
    "\n",
    "# get sorted list of directories from all_things_list\n",
    "directories = sorted([x for x in all_things_list if x.is_dir()])\n",
    "\n",
    "# get sorted files list from all_things_list\n",
    "files = sorted([x for x in all_things_list if x.is_file()])\n",
    "\n",
    "# create extensions list\n",
    "start_directory_extensions_dictionary = {}\n",
    "\n",
    "# loop through all files\n",
    "for file in files:\n",
    "    file_path = Path(file)\n",
    "            \n",
    "    # .DS_Store is treated as a filename and not an extension\n",
    "    if file_path.name == '.DS_Store':\n",
    "        if file_path.name in start_directory_extensions_dictionary:\n",
    "            # increase value by 1\n",
    "            start_directory_extensions_dictionary[file_path.name] += 1\n",
    "        else:\n",
    "            # add it to the dictionary with a value of 1\n",
    "            start_directory_extensions_dictionary[file_path.name] = 1\n",
    "    else:\n",
    "        if file_path.suffix in start_directory_extensions_dictionary:\n",
    "            # increase value by 1\n",
    "            start_directory_extensions_dictionary[file_path.suffix] += 1\n",
    "        else:\n",
    "            # add it to the dictionary with a value of 1\n",
    "            start_directory_extensions_dictionary[file_path.suffix] = 1\n",
    "\n",
    "\n",
    "# set CSV filename based on start directory folder name\n",
    "start_directory_name = start_directory_path.parts[-1]\n",
    "csv_filename = 'files_in_' + start_directory_name + '.csv'\n",
    "\n",
    "# open in CSV file WRITE mode (overwrites file if it exists)\n",
    "csv_file = open(csv_filename, 'w', newline='')  # add newline='' to stop extra lines in Windows\n",
    "# https://stackoverflow.com/questions/3348460/csv-file-written-with-python-has-blank-lines-between-each-row\n",
    "\n",
    "# update status\n",
    "print(f'Creating CSV {csv_filename} . . . ')\n",
    "print('')\n",
    "\n",
    "# open in CSV file WRITE mode (overwrites file if it exists)\n",
    "with csv_file:\n",
    "    # WRITE START DIRECTORY NAME, FILE EXTENSION AND TOTAL OF EACH FILE TYPE\n",
    "\n",
    "    # set headers\n",
    "    fieldnames = ['START DIRECTORY', 'FILE EXTENSION', 'RECURSIVE TOTAL OF FILE TYPE']\n",
    "    # create csv writer\n",
    "    writer = csv.DictWriter(csv_file, fieldnames=fieldnames)\n",
    "    # write header\n",
    "    writer.writeheader()\n",
    "    for extension in start_directory_extensions_dictionary:\n",
    "        writer.writerow({'START DIRECTORY': start_directory_name, 'FILE EXTENSION': extension, 'RECURSIVE TOTAL OF FILE TYPE': start_directory_extensions_dictionary[extension]})\n",
    "    \n",
    "\n",
    "    # add start_directory as our first directory\n",
    "    directories.insert(0, start_directory_path)\n",
    "\n",
    "    # loop through directories\n",
    "    for directory in directories:\n",
    "        \n",
    "        # print status\n",
    "        print(f'Processing {str(directory)} . . . ')\n",
    "        \n",
    "        directory_name = Path(directory).parts[-1]\n",
    "        \n",
    "        # create extensions_dictionary\n",
    "        extensions_dictionary = {}\n",
    "        directory_list = sorted(directory.iterdir())\n",
    "        files_list = [x for x in directory_list if x.is_file()]\n",
    "        \n",
    "        # add files to extensions dictionary\n",
    "        for file in files_list:\n",
    "            file_path = Path(file)\n",
    "            \n",
    "            # .DS_Store is treated as a filename and not an extension\n",
    "            if file_path.name == '.DS_Store':\n",
    "                if file_path.name in extensions_dictionary:\n",
    "                    # increase value by 1\n",
    "                    extensions_dictionary[file_path.name] += 1\n",
    "                else:\n",
    "                    # add it to the dictionary with a value of 1\n",
    "                    extensions_dictionary[file_path.name] = 1\n",
    "            else:\n",
    "                if file_path.suffix in extensions_dictionary:\n",
    "                    # increase value by 1\n",
    "                    extensions_dictionary[file_path.suffix] += 1\n",
    "                else:\n",
    "                    # add it to the dictionary with a value of 1\n",
    "                    extensions_dictionary[file_path.suffix] = 1\n",
    "        \n",
    "        # WRITE DIRECTORY PATH, FILE EXTENSION AND TOTAL OF EACH FILE TYPE\n",
    "\n",
    "        # set headers\n",
    "        fieldnames = ['DIRECTORY PATH', 'FILE EXTENSION', 'TOTAL OF FILE TYPE']\n",
    "        # create csv writer\n",
    "        writer = csv.DictWriter(csv_file, fieldnames=fieldnames)\n",
    "        # write header\n",
    "        writer.writeheader()\n",
    "        for extension in extensions_dictionary:\n",
    "            writer.writerow({'DIRECTORY PATH': directory, 'FILE EXTENSION': extension, 'TOTAL OF FILE TYPE': extensions_dictionary[extension]})\n",
    "        \n",
    "        # WRITE DIRECTORY NAME, FILENAME, AND EXTENSION\n",
    "        \n",
    "        # set headers\n",
    "        fieldnames = ['DIRECTORY', 'FILENAME', 'EXTENSION']\n",
    "        # create csv writer\n",
    "        writer = csv.DictWriter(csv_file, fieldnames=fieldnames) \n",
    "        # write header\n",
    "        writer.writeheader()\n",
    "        for file in files_list:\n",
    "            writer.writerow({'DIRECTORY': directory_name, 'FILENAME': str(file.name), 'EXTENSION': str(file.suffix)})\n",
    "            \n",
    "# set csv path\n",
    "csv_path = Path('.', csv_filename)\n",
    "\n",
    "# update status\n",
    "print('')\n",
    "print('*** FINAL STATUS ***')\n",
    "if csv_path.exists():\n",
    "    print(f'{csv_filename} exists in {Path.cwd()}')\n",
    "else:\n",
    "    print('CSV file does NOT exist!')"
   ]
  },
  {
   "cell_type": "markdown",
   "metadata": {
    "heading_collapsed": true
   },
   "source": [
    "## Verifying Directory Structures\n",
    "University of Houston's Jerrell Jones asked about verifying files in their Carpenters system"
   ]
  },
  {
   "cell_type": "code",
   "execution_count": null,
   "metadata": {
    "hidden": true
   },
   "outputs": [],
   "source": [
    "master_directory = 'data/workshop-5/master_tif/'\n",
    "modified_directory = 'data/workshop-5/modified_tif/'\n",
    "jpg_directory = 'data/workshop-5/jpg/'"
   ]
  },
  {
   "cell_type": "code",
   "execution_count": null,
   "metadata": {
    "code_folding": [
     0
    ],
    "hidden": true
   },
   "outputs": [],
   "source": [
    "# === Magick happens here\n",
    "# === IMPORT ===\n",
    "from pathlib import Path\n",
    "\n",
    "\n",
    "# create a directories_list\n",
    "directories_list = [master_directory, modified_directory, jpg_directory]\n",
    "\n",
    "# create a directories_paths_list IF directory is actually a directory\n",
    "directories_paths_list = [Path(directory) for directory in directories_list if Path(directory).is_dir()]# === IMPORT ===\n",
    "from pathlib import Path\n",
    "\n",
    "# create list of TIFFs in master_directory\n",
    "master_tiff_list = sorted(list(directories_paths_list[0].glob('**/*.tif')))\n",
    "\n",
    "print(f'Master TIFF directory: {master_directory}')\n",
    "print(f'Number of TIFFs: {len(master_tiff_list)}')\n",
    "print('')\n",
    "\n",
    "# create list of files NOT in modified & jpg directories\n",
    "files_not_in_modified_directory = []\n",
    "files_not_in_jpg_directory = []\n",
    "\n",
    "for tiff in master_tiff_list:\n",
    "    # foo.name includes the extension\n",
    "    tiff_name = tiff.name\n",
    "    \n",
    "    # foo.stem does NOT include the extension\n",
    "    file_stem = tiff.stem\n",
    "    jpg_name = file_stem + '.jpg'\n",
    "    \n",
    "    # modified directory path\n",
    "    tiff_modified_path = directories_paths_list[1].joinpath(tiff_name)\n",
    "    if not tiff_modified_path.is_file():\n",
    "        files_not_in_modified_directory.append(tiff_name)\n",
    "    \n",
    "    # jpg directory path\n",
    "    jpg_path = directories_paths_list[2].joinpath(jpg_name)\n",
    "    if not jpg_path.is_file():\n",
    "        files_not_in_jpg_directory.append(jpg_name)\n",
    "\n",
    "if len(files_not_in_modified_directory) > 0:\n",
    "    # print lists of missing files\n",
    "    print(f'ERROR: Files NOT in Modified: {files_not_in_modified_directory}')\n",
    "else:\n",
    "    print('All TIFF files in Master in Modified')\n",
    "\n",
    "if len(files_not_in_jpg_directory) > 0:\n",
    "    # print lists of missing files\n",
    "    print(f'ERROR: Files NOT in JPEG: {files_not_in_jpg_directory}')\n",
    "else:\n",
    "    print('All Master files in JPEG')\n",
    "\n",
    "    \n",
    "pdf_path_list = sorted(list(directories_paths_list[2].glob('**/*.pdf')))\n",
    "\n",
    "if len(pdf_path_list) > 0:\n",
    "    pdf_names_list = []\n",
    "    for pdf_path in pdf_path_list:\n",
    "        pdf_names_list.append(pdf_path.name)\n",
    "    print(f'PDFs in JPG directory: {pdf_names_list}')\n",
    "else:\n",
    "    print(f'No PDF in JPG directory')"
   ]
  },
  {
   "cell_type": "markdown",
   "metadata": {
    "heading_collapsed": true
   },
   "source": [
    "## Create Test Directories & Files\n",
    "\n",
    "*For example only, the code below does **NOT** work on Windows 10*"
   ]
  },
  {
   "cell_type": "code",
   "execution_count": null,
   "metadata": {
    "code_folding": [
     0
    ],
    "hidden": true
   },
   "outputs": [],
   "source": [
    "# === Create Test Directories & Files\n",
    "# set initial and jerrell_jones directory paths\n",
    "jj_dir = '/Users/Jeremy/PycharmProjects/img_qc_workshop/data/jerrell_jones/'\n",
    "\n",
    "from pathlib import Path\n",
    "initial_dir = str(Path.cwd())\n",
    "\n",
    "# move into jerrell_jones directory\n",
    "%cd {jj_dir}\n",
    "\n",
    "# create item directories\n",
    "!for i in {1..6}; do mkdir -p $(printf \"item_%d\" $i); done\\\n",
    "\n",
    "# list to verify they were created\n",
    "%ls\n",
    "\n",
    "# need random number of images in each item directory\n",
    "import random\n",
    "\n",
    "# create a random number of images in each item folder and 1 PDF\n",
    "# loop through the number of items we have\n",
    "for i in range(1, 7):\n",
    "    # set stub name for item\n",
    "    stub_name = 'item_' + str(i)\n",
    "    \n",
    "    # get directory path\n",
    "    directory_path = Path('.', stub_name)\n",
    "    \n",
    "    # verify it's a directory\n",
    "    if directory_path.is_dir():\n",
    "        \n",
    "        print(f' . . . starting {str(directory_path)}')\n",
    "        \n",
    "        # set random integer\n",
    "        random_integer = random.randint(15, 61)\n",
    "        print(f'random number: {random_integer}')\n",
    "        \n",
    "        for integer in range(1, random_integer):\n",
    "            \n",
    "            integer_zero_padded = str(integer).zfill(4)\n",
    "            \n",
    "            # set filenames based on suffixes for Carpenters\n",
    "            preservation_master_name = stub_name + '_' + integer_zero_padded + '_pm.tif'\n",
    "            modified_master_name = stub_name + '_' + integer_zero_padded + '_mm.tif'\n",
    "            jpeg_name = stub_name + '_' + integer_zero_padded + '_ac.jpg'\n",
    "            \n",
    "            filenames_list = [preservation_master_name, modified_master_name, jpeg_name]\n",
    "            \n",
    "            filenames_paths_list = [directory_path.joinpath(filename) for filename in filenames_list]\n",
    "            \n",
    "            # create each file\n",
    "            for path in filenames_paths_list:\n",
    "                \n",
    "                # need path as string for BASH command\n",
    "                bash_path = str(path)\n",
    "                \n",
    "                # create file at path\n",
    "                !touch {bash_path}\n",
    "                \n",
    "                # if our file does not exist then print an ERROR\n",
    "                if not path.is_file():\n",
    "                    print(f'ERROR: {bash_path} does NOT exist')\n",
    "                    \n",
    "        # pdf name, path, bash_path\n",
    "        pdf_name = stub_name + '_0001_ac.pdf'\n",
    "        pdf_path = directory_path.joinpath(pdf_name)\n",
    "        bash_pdf_path = str(pdf_path)\n",
    "        \n",
    "        # create pdf\n",
    "        !touch {bash_pdf_path}\n",
    "        \n",
    "        # if our pdf does not exist then print an ERROR\n",
    "        if not pdf_path.is_file():\n",
    "            print(f'ERROR: {bash_pdf_path} does NOT exist')\n",
    "            \n",
    "# use bash to list all items and pipe it to word count\n",
    "bash_string = !ls item_1/ | wc -w\n",
    "print(bash_string)\n",
    "\n",
    "# move back to initial directory\n",
    "%cd {initial_dir}"
   ]
  },
  {
   "cell_type": "markdown",
   "metadata": {
    "heading_collapsed": true
   },
   "source": [
    "## Create DigitalObject class\n",
    "\n",
    "*The following code will work on Windows 10 and macOS*"
   ]
  },
  {
   "cell_type": "code",
   "execution_count": null,
   "metadata": {
    "code_folding": [
     0
    ],
    "hidden": true
   },
   "outputs": [],
   "source": [
    "# create DigitalObject class\n",
    "class DigitalObject(object):\n",
    "    \n",
    "    # initialize the DigitalObject\n",
    "    def __init__(self, path_to_digital_object):\n",
    "        self.path = Path(path_to_digital_object)\n",
    "        self.name = self.path.name\n",
    "        \n",
    "        # list of all content in DigitalObject\n",
    "        self.contents = sorted([x for x in self.path.iterdir()])\n",
    "        \n",
    "        # list of directories in DigitalObject\n",
    "        self.dir_list = sorted([x for x in self.contents if x.is_dir()])\n",
    "        self.dir_total = len(self.dir_list)\n",
    "        \n",
    "        # list of files in DigitalObject\n",
    "        self.files_list = sorted([x for x in self.contents if x.is_file()])\n",
    "        self.files_total = len(self.files_list)\n",
    "        \n",
    "        # list of preservation master TIFFs\n",
    "        self.pm_list = sorted([x for x in self.files_list if str(x).endswith('_pm.tif')])\n",
    "        self.pm_total = len(self.pm_list)\n",
    "        \n",
    "        # list of modified master TIFFs\n",
    "        self.mm_list = sorted([x for x in self.files_list if str(x).endswith('_mm.tif')])\n",
    "        self.mm_total = len(self.mm_list)\n",
    "        \n",
    "        # list of access JPEGs\n",
    "        self.jpg_list = sorted([x for x in self.files_list if str(x).endswith('_ac.jpg')])\n",
    "        self.jpg_total = len(self.jpg_list)\n",
    "        \n",
    "        # list of access PDFs\n",
    "        self.pdf_list = sorted([x for x in self.files_list if str(x).endswith('_ac.pdf')])\n",
    "        self.pdf_total = len(self.pdf_list)\n",
    "        \n",
    "        # list of expected files\n",
    "        self.expected_files_list = self.pm_list + self.mm_list + self.jpg_list + self.pdf_list\n",
    "        self.expected_files_list_total = len(self.expected_files_list)\n",
    "        \n",
    "        # list of extra files\n",
    "        self.extra_files_list = sorted([x for x in self.files_list if x not in self.expected_files_list])\n",
    "        self.extra_files_list_total = len(self.extra_files_list)"
   ]
  },
  {
   "cell_type": "code",
   "execution_count": null,
   "metadata": {
    "code_folding": [
     0
    ],
    "hidden": true
   },
   "outputs": [],
   "source": [
    "# create a DigitalObject\n",
    "item_1 = DigitalObject('/Users/Jeremy/PycharmProjects/img_qc_workshop/data/jerrell_jones/item_1/')\n",
    "\n",
    "print(f'DigitalObject name: {item_1.name}')\n",
    "print(f'number of directories: {len(item_1.dir_list)}')\n",
    "print(f'number of files: {len(item_1.files_list)}')"
   ]
  },
  {
   "cell_type": "code",
   "execution_count": null,
   "metadata": {
    "code_folding": [
     0
    ],
    "hidden": true
   },
   "outputs": [],
   "source": [
    "# comparison\n",
    "if item_1.extra_files_list_total > 0:\n",
    "    print('ERROR: pm_total + mm_total + jpeg_total + pdf_total != files_total')\n",
    "    if item_1.extra_files_list_total == 1:\n",
    "        print('1 extra file')\n",
    "    else:\n",
    "        print(f'{item_1.extra_files_list_total} extra files')\n",
    "    print(f'All Extra Files: {[x.name for x in item_1.extra_files_list]}')\n",
    "else:\n",
    "    print('pm_total + mm_total + jpeg_total + pdf_total = files_total')"
   ]
  },
  {
   "cell_type": "code",
   "execution_count": null,
   "metadata": {
    "code_folding": [
     0
    ],
    "hidden": true
   },
   "outputs": [],
   "source": [
    "# list comprehension\n",
    "print(f'All PDFs: {[x.name for x in item_1.pdf_list]}')"
   ]
  },
  {
   "cell_type": "code",
   "execution_count": null,
   "metadata": {
    "code_folding": [
     0
    ],
    "hidden": true
   },
   "outputs": [],
   "source": [
    "# list slicing by index\n",
    "print(f'First JPEG: {item_1.jpg_list[0].name}')\n",
    "print(f'Last JPEG: {item_1.jpg_list[-1].name}')"
   ]
  }
 ],
 "metadata": {
  "kernelspec": {
   "display_name": "Python 3",
   "language": "python",
   "name": "python3"
  },
  "language_info": {
   "codemirror_mode": {
    "name": "ipython",
    "version": 3
   },
   "file_extension": ".py",
   "mimetype": "text/x-python",
   "name": "python",
   "nbconvert_exporter": "python",
   "pygments_lexer": "ipython3",
   "version": "3.6.5"
  },
  "varInspector": {
   "cols": {
    "lenName": 16,
    "lenType": 16,
    "lenVar": 40
   },
   "kernels_config": {
    "python": {
     "delete_cmd_postfix": "",
     "delete_cmd_prefix": "del ",
     "library": "var_list.py",
     "varRefreshCmd": "print(var_dic_list())"
    },
    "r": {
     "delete_cmd_postfix": ") ",
     "delete_cmd_prefix": "rm(",
     "library": "var_list.r",
     "varRefreshCmd": "cat(var_dic_list()) "
    }
   },
   "types_to_exclude": [
    "module",
    "function",
    "builtin_function_or_method",
    "instance",
    "_Feature"
   ],
   "window_display": false
  }
 },
 "nbformat": 4,
 "nbformat_minor": 2
}
