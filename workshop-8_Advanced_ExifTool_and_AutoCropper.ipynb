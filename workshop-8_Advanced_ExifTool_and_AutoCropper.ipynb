{
 "cells": [
  {
   "cell_type": "markdown",
   "metadata": {},
   "source": [
    "# Workshop Notebook 8: Advanced ExifTool and AutoCropper"
   ]
  },
  {
   "cell_type": "markdown",
   "metadata": {},
   "source": [
    "## Mandatory Disclosures\n",
    "\n",
    "1. This is a whirlwind introduction, not exhaustive instruction\n",
    "1. All images are by courtesy of the University Archives at Texas State University: http://www.univarchives.txstate.edu\n",
    "1. img_qc_workshop is licensed under the GNU General Public License v3.0, https://github.com/photosbyjeremy/img_qc_workshop/blob/master/LICENSE\n",
    "1. *Any and all code provided is done so without any warranty or expectation of support by Jeremy Moore, Todd Peters, or Texas State University*"
   ]
  },
  {
   "cell_type": "code",
   "execution_count": null,
   "metadata": {},
   "outputs": [],
   "source": [
    "current_project = 'workshop-7'  # RENAME TITLE OF JUPYTER NOTEBOOK TO MATCH"
   ]
  },
  {
   "cell_type": "code",
   "execution_count": null,
   "metadata": {
    "code_folding": [
     0
    ]
   },
   "outputs": [],
   "source": [
    "# === IMPORT ===\n",
    "# built-in libraries\n",
    "import logging\n",
    "from math import isnan\n",
    "from pathlib import Path\n",
    "\n",
    "# installed libraries\n",
    "import cv2\n",
    "import ipywidgets as widgets\n",
    "import matplotlib.pyplot as plt\n",
    "import pandas as pd\n",
    "from PIL import Image\n",
    "\n",
    "# local libraries\n",
    "import img_qc.img_qc as img_qc\n",
    "\n",
    "# magic that lets us plot directly in the notebook\n",
    "%matplotlib inline\n",
    "\n",
    "# parameters for matplotlib to increase our default figure size -- NOTE: figure sizes are in INCHES\n",
    "plt.rcParams[\"figure.figsize\"] = (6, 10)  # set as needed for your screen and eyes\n",
    "\n",
    "# on a high-dpi monitor this will increase the quality of plots on-screen\n",
    "%config InlineBackend.figure_format = 'retina'"
   ]
  },
  {
   "cell_type": "code",
   "execution_count": null,
   "metadata": {
    "code_folding": [
     0
    ]
   },
   "outputs": [],
   "source": [
    "# === DIRECTORIES ===\n",
    "\n",
    "# set current directory\n",
    "current_directory = Path.cwd()\n",
    "\n",
    "# in case we get fancy and change our current directory later\n",
    "start_directory = current_directory\n",
    "\n",
    "# set home directory\n",
    "home_directory = Path.home()\n",
    "\n",
    "# set quality control directory as hard-coded: Path.cwd()/data/demo-images_no-crop/{current_project}\n",
    "qc_directory = start_directory.joinpath('data', current_project)"
   ]
  },
  {
   "cell_type": "code",
   "execution_count": null,
   "metadata": {
    "code_folding": [
     0
    ]
   },
   "outputs": [],
   "source": [
    "# === OPTIONS ===\n",
    "# Jupyter Notebook magic\n",
    "%matplotlib inline\n",
    "\n",
    "# Pandas options\n",
    "pd.set_option('display.max_colwidth', -1)  # won't truncate output such as Path names\n",
    "\n",
    "# Logging\n",
    "logging.basicConfig(format='%(asctime)s - %(name)s - %(levelname)s - %(message)s',\n",
    "                    level=logging.INFO)\n",
    "\n",
    "logging.info(f'Current Project: {current_project}')"
   ]
  },
  {
   "cell_type": "code",
   "execution_count": null,
   "metadata": {},
   "outputs": [],
   "source": [
    "print(f'qc_directory : {qc_directory}')"
   ]
  },
  {
   "cell_type": "code",
   "execution_count": null,
   "metadata": {
    "code_folding": [
     0
    ]
   },
   "outputs": [],
   "source": [
    "# === LOAD IMAGE METADATA ===\n",
    "images_df = img_qc.get_images_df(str(qc_directory), 'tif')"
   ]
  },
  {
   "cell_type": "code",
   "execution_count": null,
   "metadata": {
    "code_folding": [
     0
    ]
   },
   "outputs": [],
   "source": [
    "# === DATAFRAME DROPDOWNS===\n",
    "df_columns = list(images_df.columns.values)\n",
    "\n",
    "def print_column(value, column):\n",
    "    value = str(value)\n",
    "    column = str(column)\n",
    "    if value == 'SELECT A VALUE BELOW':\n",
    "        pass\n",
    "    else:\n",
    "        print(f\"# of images in {column_widget.kwargs['column']} == {value_widget.kwargs['value']}\")\n",
    "        print(len(images_df[images_df[column_widget.kwargs['column']]==value_widget.kwargs['value']]))\n",
    "        new_dataframe = images_df[images_df[column_widget.kwargs['column']]==value_widget.kwargs['value']]\n",
    "        return new_dataframe    \n",
    "    \n",
    "    \n",
    "def select_column(column):\n",
    "    column_values_list = []\n",
    "    if column != 'SELECT A COLUMN':\n",
    "        \n",
    "        for column_value in images_df[column].unique():\n",
    "            # check if it's a string\n",
    "            if isinstance(column_value, str):\n",
    "                # add to values list\n",
    "                column_values_list.append(column_value)\n",
    "            # skip it if it's a nan value\n",
    "            # nan, or null, from Pandas breaks in the widgets as it's not\n",
    "            # actually selectable because there's nothing there\n",
    "            # Can rule it out by testing with the function math.isnan(x)\n",
    "            elif isnan(column_value):\n",
    "                pass\n",
    "            # add whatever else there is\n",
    "            else:\n",
    "                column_values_list.append(column_value)\n",
    "    # sort the list\n",
    "    # print(column_values_list)\n",
    "    print(f'# of Unique Values: {len(column_values_list)}')\n",
    "    column_values_list = sorted(column_values_list)\n",
    "    column_values_list.insert(0, 'SELECT A VALUE BELOW')\n",
    "    select2.options = column_values_list   \n",
    "\n",
    "    \n",
    "select1 = widgets.Dropdown(options=df_columns)\n",
    "initial_value = 'SourceFile'\n",
    "select2 = widgets.Dropdown(options=images_df[initial_value])\n",
    "column_widget = widgets.interactive(select_column, column=select1)\n",
    "value_widget = widgets.interactive(print_column, value=select2, column=select1)\n",
    "display(column_widget)\n",
    "display(value_widget)\n",
    "\n",
    "# to access the column, use : column_widget.kwargs['column']\n",
    "# to access the value, use: value_widget.kwargs['value']\n",
    "# to access the dataframe where column == value: value_widget.result"
   ]
  },
  {
   "cell_type": "code",
   "execution_count": null,
   "metadata": {
    "code_folding": [
     0
    ]
   },
   "outputs": [],
   "source": [
    "# === AutoCrop Functions\n",
    "def get_crop_contour(value,\n",
    "                     autocrop_height,\n",
    "                     output_height,\n",
    "                     padding,\n",
    "                     slide_x,\n",
    "                     size_x,\n",
    "                     slide_y,\n",
    "                     size_y\n",
    "                    ):\n",
    "    \n",
    "    # turn value into image\n",
    "    image = value\n",
    "    \n",
    "    # load the image\n",
    "    image = cv2.imread(image)\n",
    "    \n",
    "    # compute the ratio of the old height to the new height\n",
    "    ratio = image.shape[0] / autocrop_height  # shape[0] = height, 1 = width, 2 = channels\n",
    "    \n",
    "    # clone the image\n",
    "    original = image.copy()\n",
    "    \n",
    "    # resize the image\n",
    "    resized = img_qc.get_resized_cv_image(image, height=autocrop_height)\n",
    "    \n",
    "    # convert the image to grayscale\n",
    "    gray = cv2.cvtColor(resized, cv2.COLOR_BGR2GRAY)\n",
    "    \n",
    "    # blur the image\n",
    "    blurred = cv2.GaussianBlur(gray, (5, 5), 0)\n",
    "    \n",
    "    # apply Otsu's thresholding as we expect a dark vs light tone\n",
    "    (T, thresh) = cv2.threshold(blurred, 0, 255, \n",
    "                               cv2.THRESH_BINARY | cv2.THRESH_OTSU)\n",
    "\n",
    "    # find the contours in the thresholded image keeping the external one\n",
    "    thresholded_image, contours, hierarchy = cv2.findContours(thresh.copy(), cv2.RETR_EXTERNAL,\n",
    "                                                 cv2.CHAIN_APPROX_SIMPLE)\n",
    "    \n",
    "    # sort the contours from left to right\n",
    "    (contours, bounding_boxes) = img_qc.sort_contours(contours)\n",
    "    bounding_box = ''\n",
    "    \n",
    "    # loop over the contours individually\n",
    "    for (index, contour) in enumerate(contours):\n",
    "        # if the contour is not sufficiently large, ignore it\n",
    "        if cv2.contourArea(contour) < 700:\n",
    "            continue\n",
    "        \n",
    "        # compute the rotated bounding box of the contour\n",
    "        bounding_box = cv2.minAreaRect(contour)\n",
    "        bounding_box = cv2.boxPoints(bounding_box)\n",
    "        bounding_box = np.int0(bounding_box)\n",
    "        \n",
    "        # re-order the points in top_left, top_right, bottom_right, bottom_left order\n",
    "        rectangle = img_qc.order_points(bounding_box)\n",
    "        \n",
    "        # clone the image and find the points and angle for minAreaRectangle\n",
    "        clone = image.copy()\n",
    "        (x, y), (w, h), theta = cv2.minAreaRect(contour)\n",
    "        \n",
    "        # rotate the image around center of minAreaRect by theta amount\n",
    "        if theta < -45:\n",
    "            theta = 90 + theta\n",
    "        rotated_image = img_qc.rotate(clone, theta, (x, y))\n",
    "        \n",
    "    # multiply the rectangle by the original ratio\n",
    "    rectangle *= ratio\n",
    "    \n",
    "    # rotated orig by theta from minAreaRect\n",
    "    x *= ratio\n",
    "    y *= ratio\n",
    "    rotated = img_qc.rotate(original, theta, (x, y))\n",
    "    \n",
    "    # find the points we need to crop the full size original\n",
    "    top_left, top_right, bottom_right, bottom_left = rectangle\n",
    "    \n",
    "    # start in the top_left and end in the bottom_right\n",
    "    # top_left[0] is x coordinate, top_left[1] is y coordinate\n",
    "    \n",
    "    # set startX to the minimum of top_left and bottom_left points\n",
    "    startX = min(top_left[0], bottom_left[0])\n",
    "    # Get the maximum of startX and 0 so we're sure to start IN the image\n",
    "    startX = max(startX, 0)\n",
    "    \n",
    "    # set startY to the minimum of top_left and top_right\n",
    "    startY = min(top_left[1], top_right[1])\n",
    "    # Get the maximum of startY and 0 so we start IN the image\n",
    "    startY = max(startY, 0)\n",
    "    \n",
    "    # set endX with maximum of top_right and bottom_right points\n",
    "    endX = max(top_right[0], bottom_right[0])\n",
    "    \n",
    "    # set endY with maximum of bottom_left and bottom_right points\n",
    "    endY = max(bottom_left[1], bottom_right[1])\n",
    "    \n",
    "    pixel_padding = int(padding)\n",
    "    \n",
    "    startX -= pixel_padding\n",
    "    startX -= (0.5 * int(size_x))\n",
    "    startX += slide_x\n",
    "    # debug: set startX and startY to max of their current value and 0\n",
    "    startX = max(startX, 0)\n",
    "    \n",
    "    startY -= pixel_padding\n",
    "    startY -= (0.5 * int(size_y))\n",
    "    startY -= slide_y\n",
    "    startY = max(startY, 0)\n",
    "    \n",
    "    endX += pixel_padding\n",
    "    endX += (0.5 * int(size_x))\n",
    "    endX += slide_x\n",
    "    # if endX is greater than width of image shape then return image shape\n",
    "    if endX > image.shape[1]:\n",
    "        endX = image.shape[1]\n",
    "        \n",
    "    endY += pixel_padding\n",
    "    endY += (0.5 * int(size_y))\n",
    "    endY -= slide_y\n",
    "    if endY > image.shape[0]:\n",
    "        endY = image.shape[0]\n",
    "    \n",
    "    # set bounding box to (startX, startY), (endX, endY)\n",
    "    startX, startY, endX, endY = int(startX), int(startY), int(endX), int(endY)\n",
    "    \n",
    "    image_with_contour = cv2.rectangle(rotated, (startX, startY), (endX, endY), (0, 0, 255), 10)\n",
    "    \n",
    "    crop_width = endX - startX\n",
    "    crop_height = endY - startY\n",
    "    print(f'crop width: {crop_width}')\n",
    "    print(f'crop height: {crop_height}')\n",
    "    print('')\n",
    "    print('')\n",
    "    # resize the image\n",
    "    resized = img_qc.get_resized_cv_image(image_with_contour, height=output_height)\n",
    "    # show image\n",
    "    show_cv2_image(resized)\n",
    "    \n",
    "        \n",
    "    # return the image the bounding box\n",
    "    return bounding_box, rectangle, theta, (x, y)\n",
    "\n",
    "def draw_crop_contour(value, output_height, bounding_box):\n",
    "    \n",
    "    # set image from value\n",
    "    image = value\n",
    "    \n",
    "    # load the image\n",
    "    image = cv2.imread(image)\n",
    "    \n",
    "    # compute the rotated bounding box of the contour\n",
    "    #print(f'bounding_box1: {bounding_box}')\n",
    "    bounding_box = np.int0(bounding_box)\n",
    "    #print(f'bounding_box3: {bounding_box}')\n",
    "    # draw contour on the box in red\n",
    "    cv2.drawContours(image, [bounding_box], 0, (0, 0, 255), 15)\n",
    "    \n",
    "    # resize the image\n",
    "    resized = img_qc.get_resized_cv_image(image, height=height)\n",
    "    image_with_contour = resized\n",
    "    \n",
    "    return image_with_contour\n",
    "\n",
    "def show_cv2_image(image):\n",
    "    # if shape length is >2 then we have multiple channels\n",
    "    # (image.shape[0] = height, image.shape[1])\n",
    "    if len(image.shape) > 2:\n",
    "        image = cv2.cvtColor(image, cv2.COLOR_BGR2RGB)\n",
    "    plt.rcParams['figure.dpi'] = '175'\n",
    "    plt.imshow(image)\n",
    "    plt.show()"
   ]
  },
  {
   "cell_type": "code",
   "execution_count": null,
   "metadata": {
    "code_folding": [
     0
    ]
   },
   "outputs": [],
   "source": [
    "# === AutoCrop Widget\n",
    "\n",
    "autocrop_height_slider = widgets.IntSlider(description='crop height', min=100, max=1000, step=100, value=500, continuous_update=False)\n",
    "output_height_slider = widgets.IntSlider(description='qc height', min=50, max=1000, step=50, value=600, continuous_update=False)\n",
    "padding_slider = widgets.IntSlider(description='padding', min=-500, max=500, step=10, value=50, continuous_update=False)\n",
    "slide_x_slider = widgets.IntSlider(description='slide x', min=-500, max=500, step=10, value=0, continuous_update=False)\n",
    "size_x_slider = widgets.IntSlider(description='size x', min=-500, max=500, step=10, value=0, continuous_update=False)\n",
    "slide_y_slider = widgets.IntSlider(description='slide y', min=-500, max=500, step=10, value=0, continuous_update=False)\n",
    "size_y_slider = widgets.IntSlider(description='size y', min=-500, max=500, step=10, value=0, continuous_update=False)\n",
    "\n",
    "row1 = widgets.HBox([autocrop_height_slider, output_height_slider, padding_slider])\n",
    "row2 = widgets.HBox([slide_x_slider, size_x_slider,])\n",
    "row3 = widgets.HBox([slide_y_slider, size_y_slider])\n",
    "ui = widgets.VBox([row1, row2, row3])\n",
    "\n",
    "out = widgets.interactive_output(get_crop_contour, {'value': select2,\n",
    "                                                    'autocrop_height': autocrop_height_slider,\n",
    "                                                    'output_height': output_height_slider,\n",
    "                                                    'padding': padding_slider,\n",
    "                                                    'slide_x': slide_x_slider,\n",
    "                                                    'size_x': size_x_slider,\n",
    "                                                    'slide_y': slide_y_slider,\n",
    "                                                    'size_y': size_y_slider\n",
    "                                                   })\n",
    "out.layout.height = '800px'\n",
    "\n",
    "display(ui, out)"
   ]
  },
  {
   "cell_type": "code",
   "execution_count": null,
   "metadata": {},
   "outputs": [],
   "source": []
  }
 ],
 "metadata": {
  "kernelspec": {
   "display_name": "Python 3",
   "language": "python",
   "name": "python3"
  },
  "language_info": {
   "codemirror_mode": {
    "name": "ipython",
    "version": 3
   },
   "file_extension": ".py",
   "mimetype": "text/x-python",
   "name": "python",
   "nbconvert_exporter": "python",
   "pygments_lexer": "ipython3",
   "version": "3.6.5"
  },
  "varInspector": {
   "cols": {
    "lenName": 16,
    "lenType": 16,
    "lenVar": 40
   },
   "kernels_config": {
    "python": {
     "delete_cmd_postfix": "",
     "delete_cmd_prefix": "del ",
     "library": "var_list.py",
     "varRefreshCmd": "print(var_dic_list())"
    },
    "r": {
     "delete_cmd_postfix": ") ",
     "delete_cmd_prefix": "rm(",
     "library": "var_list.r",
     "varRefreshCmd": "cat(var_dic_list()) "
    }
   },
   "types_to_exclude": [
    "module",
    "function",
    "builtin_function_or_method",
    "instance",
    "_Feature"
   ],
   "window_display": false
  }
 },
 "nbformat": 4,
 "nbformat_minor": 2
}
